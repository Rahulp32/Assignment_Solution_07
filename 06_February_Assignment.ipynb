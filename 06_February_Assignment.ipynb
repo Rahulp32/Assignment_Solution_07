{
 "cells": [
  {
   "cell_type": "markdown",
   "id": "d5e31b70-9366-4663-beb7-fb175888a3fe",
   "metadata": {},
   "source": [
    "# 07_Assignment_06_February_Solution"
   ]
  },
  {
   "cell_type": "markdown",
   "id": "f4b3aad4-1512-4f4f-93a9-3be85a289df7",
   "metadata": {},
   "source": [
    "### Q1. Create a function which will take a list as an argument and return the product of all the numbers after creating a flat list.\n",
    "### Use the below-given list as an argument for your function.\n",
    "### list1 = [1,2,3,4, [44,55,66, True], False, (34,56,78,89,34), {1,2,3,3,2,1}, {1:34, \"key2\": [55, 67, 78, 89], 4: (45, 22, 61, 34)}, [56, 'data science'], 'Machine Learning']\n",
    "### Note: you must extract numeric keys and values of the dictionary also."
   ]
  },
  {
   "cell_type": "code",
   "execution_count": 5,
   "id": "05f77e7d-3b35-4913-8e71-6fc7c5112b0c",
   "metadata": {},
   "outputs": [
    {
     "name": "stdout",
     "output_type": "stream",
     "text": [
      "The product of all numbers in the flattened list is: 0\n"
     ]
    }
   ],
   "source": [
    "from functools import reduce\n",
    "\n",
    "def flatten_and_multiply(lst):\n",
    "    flat_list = []\n",
    "\n",
    "    def flatten(item):\n",
    "        # Check if the item is a list, tuple, or set\n",
    "        if isinstance(item, (list, tuple, set)):\n",
    "            for sub_item in item:\n",
    "                flatten(sub_item)\n",
    "        # Check if the item is a dictionary\n",
    "        elif isinstance(item, dict):\n",
    "            for key, value in item.items():\n",
    "                # Add numeric keys\n",
    "                if isinstance(key, (int, float)):\n",
    "                    flat_list.append(key)\n",
    "                # Add numeric values\n",
    "                if isinstance(value, (int, float)):\n",
    "                    flat_list.append(value)\n",
    "                elif isinstance(value, (list, tuple, set)):\n",
    "                    flatten(value)\n",
    "        # Add numeric values directly\n",
    "        elif isinstance(item, (int, float)):\n",
    "            flat_list.append(item)\n",
    "\n",
    "    # Flatten the input list\n",
    "    flatten(lst)\n",
    "\n",
    "    # Compute the product of all numeric values\n",
    "    product = reduce(lambda x, y: x * y, flat_list, 1)\n",
    "    return product\n",
    "\n",
    "# Input list\n",
    "list1 = [\n",
    "    1, 2, 3, 4, \n",
    "    [44, 55, 66, True], \n",
    "    False, \n",
    "    (34, 56, 78, 89, 34), \n",
    "    {1, 2, 3, 3, 2, 1}, \n",
    "    {1: 34, \"key2\": [55, 67, 78, 89], 4: (45, 22, 61, 34)}, \n",
    "    [56, 'data science'], \n",
    "    'Machine Learning'\n",
    "]\n",
    "\n",
    "# Call the function and print the result\n",
    "result = flatten_and_multiply(list1)\n",
    "print(f\"The product of all numbers in the flattened list is: {result}\")\n"
   ]
  },
  {
   "cell_type": "code",
   "execution_count": 7,
   "id": "09b3eaba-ab15-4f88-847b-9cc00ac7b685",
   "metadata": {},
   "outputs": [
    {
     "name": "stdout",
     "output_type": "stream",
     "text": [
      "The product of all numbers in the flattened list is: 0\n"
     ]
    }
   ],
   "source": [
    "from functools import reduce\n",
    "\n",
    "def flatten_and_multiply(lst):\n",
    "    flat_list = []\n",
    "\n",
    "    def flatten(item):\n",
    "        if isinstance(item, (list, tuple, set)):\n",
    "            for sub_item in item:\n",
    "                flatten(sub_item)\n",
    "        elif isinstance(item, dict):\n",
    "            for key, value in item.items():\n",
    "                if isinstance(key, (int, float)):\n",
    "                    flat_list.append(key)\n",
    "                if isinstance(value, (int, float)):\n",
    "                    flat_list.append(value)\n",
    "                elif isinstance(value, (list, tuple, set)):\n",
    "                    flatten(value)\n",
    "        elif isinstance(item, (int, float)):\n",
    "            flat_list.append(item)\n",
    "\n",
    "    # Flatten the input list\n",
    "    flatten(lst)\n",
    "\n",
    "    # Compute the product of all numeric values\n",
    "    product = reduce(lambda x, y: x * y, flat_list, 1)\n",
    "    return product\n",
    "\n",
    "# Input list\n",
    "list1 = [\n",
    "    1, 2, 3, 4, \n",
    "    [44, 55, 66, True], \n",
    "    False, \n",
    "    (34, 56, 78, 89, 34), \n",
    "    {1, 2, 3, 3, 2, 1}, \n",
    "    {1: 34, \"key2\": [55, 67, 78, 89], 4: (45, 22, 61, 34)}, \n",
    "    [56, 'data science'], \n",
    "    'Machine Learning'\n",
    "]\n",
    "\n",
    "# Call the function\n",
    "result = flatten_and_multiply(list1)\n",
    "print(f\"The product of all numbers in the flattened list is: {result}\")\n"
   ]
  },
  {
   "cell_type": "markdown",
   "id": "fe8ba348-57ab-40c5-a1ec-aa663cf7e45e",
   "metadata": {},
   "source": [
    "### Q2. Write a python program for encrypting a message sent to you by your friend. The logic of encryption should be such that, for a the output should be z. For b, the output should be y. \n",
    "### For c, the output should be x respectively. Also, the whitespace should be replaced with a dollar sign. Keep the punctuation marks unchanged.\n",
    "### Input Sentence: I want to become a Data Scientist.\n",
    "### Encrypt the above input sentence using the program you just created.\n",
    "### Note: Convert the given input sentence into lowercase before encrypting. The final output should be lowercase."
   ]
  },
  {
   "cell_type": "code",
   "execution_count": 10,
   "id": "4fc78a59-b1b8-4a51-ba76-6968db045c11",
   "metadata": {},
   "outputs": [
    {
     "name": "stdout",
     "output_type": "stream",
     "text": [
      "Encrypted message: r$dzmg$gl$yvxlnv$z$wzgz$hxrvmgrhg.\n"
     ]
    }
   ],
   "source": [
    "def encrypt_message(message):\n",
    "    # Define the encryption logic\n",
    "    def encrypt_char(char):\n",
    "        if char.isalpha():\n",
    "            return chr(219 - ord(char))  # Convert using reverse alphabet logic\n",
    "        elif char == ' ':\n",
    "            return '$'  # Replace whitespace with $\n",
    "        else:\n",
    "            return char  # Keep punctuation marks unchanged\n",
    "\n",
    "    # Convert message to lowercase and encrypt\n",
    "    encrypted_message = ''.join(encrypt_char(char) for char in message.lower())\n",
    "    return encrypted_message\n",
    "\n",
    "# Input sentence\n",
    "input_sentence = \"I want to become a Data Scientist.\"\n",
    "\n",
    "# Encrypt the sentence\n",
    "encrypted_sentence = encrypt_message(input_sentence)\n",
    "print(f\"Encrypted message: {encrypted_sentence}\")\n"
   ]
  },
  {
   "cell_type": "markdown",
   "id": "2ee83b42-f845-4304-a2ed-9dfe7d0f3307",
   "metadata": {},
   "source": [
    "### IInd Method"
   ]
  },
  {
   "cell_type": "code",
   "execution_count": 12,
   "id": "653ca8d3-7fe6-4c01-9e06-f01382fecb94",
   "metadata": {},
   "outputs": [
    {
     "name": "stdout",
     "output_type": "stream",
     "text": [
      "Encrypted Sentence: r$dzmg$gl$yvxlnv$z$wzgz$hxrvmgrhg.\n"
     ]
    }
   ],
   "source": [
    "# Function to encrypt a given message\n",
    "def encrypt_message(message):\n",
    "    # Define the encryption logic\n",
    "    encrypted_message = \"\"\n",
    "    for char in message.lower():  # Convert to lowercase\n",
    "        if char.isalpha():  # Check if it's an alphabet\n",
    "            encrypted_char = chr(122 - (ord(char) - 97))  # Map 'a' to 'z', 'b' to 'y', etc.\n",
    "            encrypted_message += encrypted_char\n",
    "        elif char.isspace():  # Replace spaces with '$'\n",
    "            encrypted_message += '$'\n",
    "        else:  # Keep punctuation unchanged\n",
    "            encrypted_message += char\n",
    "    return encrypted_message\n",
    "\n",
    "# Input sentence\n",
    "input_sentence = \"I want to become a Data Scientist.\"\n",
    "\n",
    "# Encrypt the input sentence\n",
    "encrypted_sentence = encrypt_message(input_sentence)\n",
    "\n",
    "# Print the encrypted sentence\n",
    "print(\"Encrypted Sentence:\", encrypted_sentence)\n"
   ]
  },
  {
   "cell_type": "code",
   "execution_count": null,
   "id": "794f9527-1754-47e9-9d44-5e30567ff312",
   "metadata": {},
   "outputs": [],
   "source": []
  }
 ],
 "metadata": {
  "kernelspec": {
   "display_name": "Python 3 (ipykernel)",
   "language": "python",
   "name": "python3"
  },
  "language_info": {
   "codemirror_mode": {
    "name": "ipython",
    "version": 3
   },
   "file_extension": ".py",
   "mimetype": "text/x-python",
   "name": "python",
   "nbconvert_exporter": "python",
   "pygments_lexer": "ipython3",
   "version": "3.11.7"
  }
 },
 "nbformat": 4,
 "nbformat_minor": 5
}
